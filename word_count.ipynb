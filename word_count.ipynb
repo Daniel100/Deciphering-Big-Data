{
 "cells": [
  {
   "attachments": {},
   "cell_type": "markdown",
   "metadata": {},
   "source": [
    "# Unique Word Count"
   ]
  },
  {
   "cell_type": "code",
   "execution_count": 8,
   "metadata": {},
   "outputs": [
    {
     "name": "stdout",
     "output_type": "stream",
     "text": [
      "data type:  <class 'str'>\n",
      "length:  39\n",
      "{'': 2, 'enter': 1, 'a': 1, 'text': 1, 'with': 1, 'serveral': 1, 'lines': 1, 'here': 1}\n"
     ]
    }
   ],
   "source": [
    "# the text\n",
    "mText = ''' enter a text with serveral lines here '''\n",
    "\n",
    "# check length and data type\n",
    "print('data type: ', type(multiline_text))\n",
    "print('length: ', len(multiline_text))\n",
    "\n",
    "# delete all: punctations\n",
    "mtext = mText.replace('\\n', '')                            # removes line breaks\n",
    "mtext = mtext.lower()\n",
    "mtext = mtext.replace('.', '')                                      \n",
    "mtext = mtext.replace(';', '')                                      \n",
    "mtext = mtext.replace('?', '')                                      \n",
    "mtext = mtext.replace('\"', ' ')                                     \n",
    "mtext = mtext.replace(',', '')                                      \n",
    "mtext = mtext.replace(\"'\", '')                                      \n",
    "mtext = mtext.replace(\"!\", '')\n",
    "mtext = mtext.replace('  ', ' ')\n",
    "mtext = mtext.split(' ')\n",
    "\n",
    "# creatte a list with unique words\n",
    "word_count = dict.fromkeys(mtext)\n",
    "\n",
    "# count the words\n",
    "for word in mtext:\n",
    "    if word_count[word] is None:\n",
    "        word_count[word] = 1\n",
    "    else:\n",
    "        word_count[word] += 1\n",
    "        \n",
    "print(word_count)"
   ]
  }
 ],
 "metadata": {
  "kernelspec": {
   "display_name": "python_projects_general",
   "language": "python",
   "name": "python3"
  },
  "language_info": {
   "codemirror_mode": {
    "name": "ipython",
    "version": 3
   },
   "file_extension": ".py",
   "mimetype": "text/x-python",
   "name": "python",
   "nbconvert_exporter": "python",
   "pygments_lexer": "ipython3",
   "version": "3.9.16"
  },
  "orig_nbformat": 4,
  "vscode": {
   "interpreter": {
    "hash": "d6dd98b5d7f18a8bd4eebfc96aa832fd871ab2212cc3d5f1c8c1c7f06b6b219c"
   }
  }
 },
 "nbformat": 4,
 "nbformat_minor": 2
}
