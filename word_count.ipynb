{
 "cells": [
  {
   "attachments": {},
   "cell_type": "markdown",
   "metadata": {},
   "source": [
    "# Unique Word Count"
   ]
  },
  {
   "cell_type": "code",
   "execution_count": 8,
   "metadata": {},
   "outputs": [
    {
     "name": "stdout",
     "output_type": "stream",
     "text": [
      "data type:  <class 'str'>\n",
      "length:  39\n",
      "{'': 2, 'enter': 1, 'a': 1, 'text': 1, 'with': 1, 'serveral': 1, 'lines': 1, 'here': 1}\n"
     ]
    }
   ],
   "source": [
    "# the text\n",
    "mText = ''' enter a text with serveral lines here '''\n",
    "\n",
    "# check length and data type\n",
    "print('data type: ', type(multiline_text))\n",
    "print('length: ', len(multiline_text))\n",
    "\n",
    "# delete all: punctations\n",
    "mtext = mText.replace('\\n', '')                            # removes line breaks\n",
    "mtext = mtext.lower()\n",
    "mtext = mtext.replace('.', '')                                      \n",
    "mtext = mtext.replace(';', '')                                      \n",
    "mtext = mtext.replace('?', '')                                      \n",
    "mtext = mtext.replace('\"', ' ')                                     \n",
    "mtext = mtext.replace(',', '')                                      \n",
    "mtext = mtext.replace(\"'\", '')                                      \n",
    "mtext = mtext.replace(\"!\", '')\n",
    "mtext = mtext.replace('  ', ' ')\n",
    "mtext = mtext.split(' ')\n",
    "\n",
    "# creatte a list with unique words\n",
    "word_count = dict.fromkeys(mtext)\n",
    "\n",
    "# count the words\n",
    "for word in mtext:\n",
    "    if word_count[word] is None:\n",
    "        word_count[word] = 1\n",
    "    else:\n",
    "        word_count[word] += 1\n",
    "        \n",
    "print(word_count)\n"
   ]
  },
  {
   "cell_type": "code",
   "execution_count": 6,
   "metadata": {},
   "outputs": [
    {
     "name": "stdout",
     "output_type": "stream",
     "text": [
      "{'it': 14, 'is': 14, 'a': 21, 'truth': 2, 'universally': 1, 'acknowledged': 1, 'that': 15, 'single': 4, 'man': 4, 'in': 12, 'possession': 2, 'of': 29, 'good': 2, 'fortune': 3, 'must': 7, 'be': 11, 'want': 3, 'wifehowever': 1, 'little': 3, 'known': 1, 'the': 18, 'feelings': 1, 'or': 5, 'views': 1, 'such': 5, 'may': 5, 'on': 3, 'his': 11, 'first': 1, 'entering': 1, 'neighbourhood': 3, 'this': 2, 'so': 8, 'well': 1, 'fixed': 1, 'minds': 1, 'surrounding': 1, 'families': 1, 'he': 11, 'considered': 1, 'rightful': 1, 'property': 1, 'some': 2, 'one': 5, 'other': 2, 'their': 1, 'daughters': 4, 'my': 13, 'dear': 8, 'mr': 10, 'bennet': 6, 'said': 1, 'lady': 2, 'to': 22, 'him': 4, 'day': 1, 'have': 7, 'you': 31, 'heard': 2, 'netherfield': 2, 'park': 1, 'let': 1, 'at': 2, 'last': 2, 'replied': 3, 'had': 3, 'not': 9, 'but': 8, 'returned': 1, 'she': 7, 'for': 12, 'mrs': 2, 'long': 2, 'has': 5, 'just': 1, 'been': 2, 'here': 2, 'and': 16, 'told': 1, 'me': 5, 'all': 3, 'about': 1, 'made': 1, 'no': 7, 'answer': 1, 'do': 5, 'know': 5, 'who': 1, 'taken': 2, 'cried': 1, 'wife': 3, 'impatiently': 1, 'tell': 1, 'i': 17, 'objection': 1, 'hearing': 1, 'was': 8, 'invitation': 1, 'enough': 1, 'why': 1, 'says': 1, 'by': 4, 'young': 2, 'large': 2, 'from': 1, 'north': 1, 'england': 1, 'came': 1, 'down': 1, 'monday': 1, 'chaise': 1, 'four': 3, 'see': 5, 'place': 1, 'much': 3, 'delighted': 1, 'with': 4, 'agreed': 1, 'morris': 1, 'immediately': 1, 'take': 2, 'before': 1, 'michaelmas': 1, 'servants': 1, 'are': 8, 'house': 1, 'end': 1, 'next': 1, 'week': 1, 'what': 4, 'name': 1, 'bingley': 4, 'married': 2, 'oh': 1, 'sure': 2, 'five': 2, 'thousand': 2, 'year': 2, 'fine': 1, 'thing': 2, 'our': 1, 'girls': 4, 'how': 5, 'can': 4, 'affect': 1, 'them': 11, 'tiresome': 1, 'am': 2, 'thinking': 2, 'marrying': 2, 'design': 2, 'settling': 1, 'nonsense': 1, 'talk': 1, 'very': 2, 'likely': 1, 'fall': 1, 'love': 1, 'therefore': 1, 'visit': 5, 'as': 7, 'soon': 1, 'comes': 2, 'occasion': 1, 'go': 4, 'send': 2, 'themselves': 1, 'which': 1, 'perhaps': 1, 'will': 9, 'still': 1, 'better': 2, 'handsome': 2, 'any': 1, 'like': 2, 'best': 1, 'party': 1, 'flatter': 1, 'certainly': 1, 'share': 1, 'beauty': 3, 'pretend': 1, 'anything': 1, 'extraordinary': 1, 'now': 1, 'when': 4, 'woman': 3, 'grown-up': 1, 'ought': 1, 'give': 1, 'over': 2, 'her': 6, 'own': 2, 'cases': 1, 'often': 1, 'think': 2, 'indeed': 2, 'into': 2, 'more': 2, 'than': 3, 'engage': 1, 'assure': 2, 'consider': 1, 'your': 3, 'only': 1, 'an': 1, 'establishment': 1, 'would': 1, 'sir': 1, 'william': 1, 'lucas': 1, 'determined': 1, 'merely': 1, 'account': 1, 'general': 1, 'they': 4, 'newcomers': 1, 'impossible': 1, 'us': 2, 'if': 2, 'over-scrupulous': 1, 'surely': 1, 'dare': 1, 'say': 1, 'glad': 1, 'few': 1, 'lines': 1, 'hearty': 1, 'consent': 1, 'whichever': 1, 'chooses': 1, 'though': 1, 'throw': 1, 'word': 1, 'lizzy': 3, 'desire': 1, 'bit': 1, 'others': 1, 'half': 2, 'jane': 1, 'nor': 1, 'good-humoured': 1, 'lydia': 1, 'always': 1, 'giving': 1, 'preference': 1, 'none': 1, 'recommend': 1, 'silly': 1, 'ignorant': 1, 'something': 1, 'quickness': 1, 'sisters': 1, 'abuse': 1, 'children': 1, 'way': 1, 'delight': 1, 'vexing': 1, 'compassion': 1, 'poor': 1, 'nerves': 2, 'mistake': 1, 'high': 1, 'respect': 1, 'old': 1, 'friends': 1, 'mention': 1, 'consideration': 1, 'these': 1, 'twenty': 3, 'years': 2, 'least': 1, 'ah': 1, 'suffer': 1, 'hope': 1, 'get': 2, 'live': 1, 'many': 1, 'men': 1, 'come': 2, 'use': 1, 'should': 1, 'since': 1, 'depend': 1, 'upon': 1, 'there': 1, 'odd': 1, 'mixture': 1, 'quick': 1, 'parts': 1, 'sarcastic': 1, 'humour': 1, 'reserve': 1, 'caprice': 1, 'experience': 1, 'three-and-twenty': 1, 'insufficient': 1, 'make': 1, 'understand': 1, 'character': 1, 'mind': 1, 'less': 1, 'difficult': 1, 'develop': 1, 'mean': 1, 'understanding': 1, 'information': 1, 'uncertain': 1, 'temper': 1, 'discontented': 1, 'fancied': 1, 'herself': 1, 'nervous': 1, 'business': 1, 'life': 1, 'its': 1, 'solace': 1, 'visiting': 1, 'news': 1}\n"
     ]
    }
   ],
   "source": [
    "print(word_count)"
   ]
  },
  {
   "cell_type": "code",
   "execution_count": null,
   "metadata": {},
   "outputs": [],
   "source": []
  }
 ],
 "metadata": {
  "kernelspec": {
   "display_name": "python_projects_general",
   "language": "python",
   "name": "python3"
  },
  "language_info": {
   "codemirror_mode": {
    "name": "ipython",
    "version": 3
   },
   "file_extension": ".py",
   "mimetype": "text/x-python",
   "name": "python",
   "nbconvert_exporter": "python",
   "pygments_lexer": "ipython3",
   "version": "3.9.16"
  },
  "orig_nbformat": 4,
  "vscode": {
   "interpreter": {
    "hash": "d6dd98b5d7f18a8bd4eebfc96aa832fd871ab2212cc3d5f1c8c1c7f06b6b219c"
   }
  }
 },
 "nbformat": 4,
 "nbformat_minor": 2
}
