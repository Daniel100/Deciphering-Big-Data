{
 "cells": [
  {
   "cell_type": "code",
   "execution_count": 2,
   "id": "5cdfd5af-555b-48d8-b3f4-a705ec9648ea",
   "metadata": {
    "tags": []
   },
   "outputs": [],
   "source": [
    "# packages\n",
    "\n",
    "# data manipulation\n",
    "import math\n",
    "import pandas as pd                                                            # table manipulation\n",
    "from pandas.api.types import is_numeric_dtype                                  # it checks if pandas column is numeric\n",
    "import numpy as np                                                             # package for scientific computing\n",
    "\n",
    "# machine learning\n",
    "from sklearn.model_selection import train_test_split                           # splits the data into a train and test data set\n",
    "from sklearn.metrics import mean_squared_error                                 # root mean square error\n",
    "from sklearn.metrics import fbeta_score, make_scorer                           # custom score function\n",
    "from sklearn.preprocessing import StandardScaler"
   ]
  },
  {
   "cell_type": "code",
   "execution_count": 3,
   "id": "a907989a-86af-48c8-98f4-a63f0494587b",
   "metadata": {},
   "outputs": [],
   "source": [
    "# FUNCTIONS\n",
    "\n",
    "# this functions transforms non-numeric values into a dummy coding:\n",
    "def make_dummies(dat): \n",
    "    \n",
    "    ''' note: this funciton does not consider ordinal variables '''\n",
    "    \n",
    "    df = pd.DataFrame()\n",
    "    df.index = dat.index\n",
    "\n",
    "    for col in dat.columns:\n",
    "\n",
    "        if is_numeric_dtype(dat[col]):\n",
    "            \n",
    "            df = df.merge(\n",
    "                dat[col].fillna(0), \n",
    "                left_index=True, \n",
    "                right_index=True\n",
    "                )\n",
    "        else:  \n",
    "            df = df.merge(\n",
    "                pd.get_dummies(dat[col], drop_first=True, prefix = col, dtype=int), \n",
    "                left_index=True, \n",
    "                right_index=True\n",
    "            ) \n",
    "    return df\n",
    "\n",
    "\n",
    "# test, train data split\n",
    "def make_split(dt, target):\n",
    "    X_train, X_test, y_train, y_test = train_test_split( \n",
    "        dt.drop([target],axis=1),                                       \n",
    "        dt[target],                                                          \n",
    "        test_size=0.3, \n",
    "        train_size=0.7\n",
    "    )\n",
    "    \n",
    "    return X_train, X_test, y_train, y_test      \n",
    "\n",
    "# this function calculates the root-mean-squared-error (RMSE)\n",
    "def get_RMSE(y_true, y_pred):\n",
    "    '''\n",
    "    metric: root-mean-squared-Error (rmse) between the log. of the predicted value and \n",
    "    the logarithm of the observed sales price.\n",
    "    '''\n",
    "    y_trug_log = np.log(np.abs(y_true))\n",
    "    y_pred_log = np.log(np.abs(y_pred))\n",
    "    \n",
    "    return math.sqrt(mean_squared_error(y_trug_log, y_pred_log))"
   ]
  }
 ],
 "metadata": {
  "kernelspec": {
   "display_name": "env_project_1",
   "language": "python",
   "name": "python3"
  },
  "language_info": {
   "codemirror_mode": {
    "name": "ipython",
    "version": 3
   },
   "file_extension": ".py",
   "mimetype": "text/x-python",
   "name": "python",
   "nbconvert_exporter": "python",
   "pygments_lexer": "ipython3",
   "version": "3.9.16"
  },
  "vscode": {
   "interpreter": {
    "hash": "aa726a3b2f0a640a80b575b61ab9fd43385fdca56826cd5ed9f50118650bef61"
   }
  }
 },
 "nbformat": 4,
 "nbformat_minor": 5
}
