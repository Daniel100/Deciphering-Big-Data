{
 "cells": [
  {
   "cell_type": "markdown",
   "metadata": {},
   "source": [
    "# WEB SCRAPING\n"
   ]
  },
  {
   "attachments": {},
   "cell_type": "markdown",
   "metadata": {},
   "source": [
    "The Wiki web page 'https://en.wikipedia.org/wiki/List_of_countries_by_GDP_(nominal)' contains the Gross Domestic Product per Country. This is essential for many analyses; this script loads the data from the wiki web page and cleans the data."
   ]
  },
  {
   "cell_type": "markdown",
   "metadata": {},
   "source": [
    "### Libraries"
   ]
  },
  {
   "cell_type": "code",
   "execution_count": 11,
   "metadata": {},
   "outputs": [],
   "source": [
    "# libraries\n",
    "from bs4 import BeautifulSoup\n",
    "import requests\n",
    "import pandas as pd\n",
    "import html5lib"
   ]
  },
  {
   "attachments": {},
   "cell_type": "markdown",
   "metadata": {},
   "source": [
    "### Helper function"
   ]
  },
  {
   "cell_type": "code",
   "execution_count": 12,
   "metadata": {},
   "outputs": [],
   "source": [
    "def clean_year(years):\n",
    "\n",
    "    lst = []\n",
    "\n",
    "    for y in years:\n",
    "        \n",
    "        if len(y) == 4:\n",
    "            lst.append(int(y))\n",
    "        elif len(y) > 4:\n",
    "            lst.append(int(y[-4:]))\n",
    "        else:\n",
    "            lst.append(lst[-1])\n",
    "            \n",
    "    return(lst)"
   ]
  },
  {
   "attachments": {},
   "cell_type": "markdown",
   "metadata": {},
   "source": [
    "### DATA GATHERING"
   ]
  },
  {
   "cell_type": "code",
   "execution_count": 13,
   "metadata": {},
   "outputs": [],
   "source": [
    "# libraries\n",
    "from bs4 import BeautifulSoup\n",
    "import requests\n",
    "import pandas as pd\n",
    "import html5lib\n",
    "\n",
    "# url\n",
    "url = 'https://en.wikipedia.org/wiki/List_of_countries_by_GDP_(nominal)'\n",
    "\n",
    "# data load\n",
    "gdp = pd.read_html(url, match='Country/Territory', header=0, skiprows=1)[0]"
   ]
  },
  {
   "attachments": {},
   "cell_type": "markdown",
   "metadata": {},
   "source": [
    "### DATA CLEANING"
   ]
  },
  {
   "cell_type": "code",
   "execution_count": 14,
   "metadata": {},
   "outputs": [],
   "source": [
    "# column renaming \n",
    "dt = gdp.rename(columns = {\n",
    "    'UN Region': 'REGION', \n",
    "    'Country/Territory': 'COUNTRY',\n",
    "    'Estimate': 'IMF',\n",
    "    'Estimate.1': 'WORLD_BANK',\n",
    "    'Estimate.2': 'UN',\n",
    "    'Year': 'IMF_YEAR',\n",
    "    'Year.1': 'WORLD_BANK_YEAR',\n",
    "    'Year.2': 'UN_YEAR'\n",
    "    }\n",
    ")\n",
    "\n",
    "# cleaning the year\n",
    "for y in ['IMF_YEAR', 'WORLD_BANK_YEAR', 'UN_YEAR']:\n",
    "    dt[y] = clean_year(dt[y])"
   ]
  },
  {
   "cell_type": "code",
   "execution_count": 15,
   "metadata": {},
   "outputs": [
    {
     "data": {
      "text/html": [
       "<div>\n",
       "<style scoped>\n",
       "    .dataframe tbody tr th:only-of-type {\n",
       "        vertical-align: middle;\n",
       "    }\n",
       "\n",
       "    .dataframe tbody tr th {\n",
       "        vertical-align: top;\n",
       "    }\n",
       "\n",
       "    .dataframe thead th {\n",
       "        text-align: right;\n",
       "    }\n",
       "</style>\n",
       "<table border=\"1\" class=\"dataframe\">\n",
       "  <thead>\n",
       "    <tr style=\"text-align: right;\">\n",
       "      <th></th>\n",
       "      <th>COUNTRY</th>\n",
       "      <th>REGION</th>\n",
       "      <th>IMF</th>\n",
       "      <th>IMF_YEAR</th>\n",
       "      <th>WORLD_BANK</th>\n",
       "      <th>WORLD_BANK_YEAR</th>\n",
       "      <th>UN</th>\n",
       "      <th>UN_YEAR</th>\n",
       "    </tr>\n",
       "  </thead>\n",
       "  <tbody>\n",
       "    <tr>\n",
       "      <th>0</th>\n",
       "      <td>World</td>\n",
       "      <td>—</td>\n",
       "      <td>101560901</td>\n",
       "      <td>2022</td>\n",
       "      <td>96513077</td>\n",
       "      <td>2021</td>\n",
       "      <td>85328323</td>\n",
       "      <td>2020</td>\n",
       "    </tr>\n",
       "    <tr>\n",
       "      <th>1</th>\n",
       "      <td>United States</td>\n",
       "      <td>Americas</td>\n",
       "      <td>25035164</td>\n",
       "      <td>2022</td>\n",
       "      <td>22996100</td>\n",
       "      <td>2021</td>\n",
       "      <td>20893746</td>\n",
       "      <td>2020</td>\n",
       "    </tr>\n",
       "    <tr>\n",
       "      <th>2</th>\n",
       "      <td>China</td>\n",
       "      <td>Asia</td>\n",
       "      <td>18321197</td>\n",
       "      <td>2022</td>\n",
       "      <td>17734063</td>\n",
       "      <td>2021</td>\n",
       "      <td>14722801</td>\n",
       "      <td>2020</td>\n",
       "    </tr>\n",
       "  </tbody>\n",
       "</table>\n",
       "</div>"
      ],
      "text/plain": [
       "         COUNTRY    REGION        IMF  IMF_YEAR WORLD_BANK  WORLD_BANK_YEAR  \\\n",
       "0          World         —  101560901      2022   96513077             2021   \n",
       "1  United States  Americas   25035164      2022   22996100             2021   \n",
       "2          China      Asia   18321197      2022   17734063             2021   \n",
       "\n",
       "         UN  UN_YEAR  \n",
       "0  85328323     2020  \n",
       "1  20893746     2020  \n",
       "2  14722801     2020  "
      ]
     },
     "execution_count": 15,
     "metadata": {},
     "output_type": "execute_result"
    }
   ],
   "source": [
    "dt.head(3)"
   ]
  }
 ],
 "metadata": {
  "kernelspec": {
   "display_name": "python_projects_general",
   "language": "python",
   "name": "python3"
  },
  "language_info": {
   "codemirror_mode": {
    "name": "ipython",
    "version": 3
   },
   "file_extension": ".py",
   "mimetype": "text/x-python",
   "name": "python",
   "nbconvert_exporter": "python",
   "pygments_lexer": "ipython3",
   "version": "3.9.15"
  },
  "orig_nbformat": 4,
  "vscode": {
   "interpreter": {
    "hash": "d6dd98b5d7f18a8bd4eebfc96aa832fd871ab2212cc3d5f1c8c1c7f06b6b219c"
   }
  }
 },
 "nbformat": 4,
 "nbformat_minor": 2
}
